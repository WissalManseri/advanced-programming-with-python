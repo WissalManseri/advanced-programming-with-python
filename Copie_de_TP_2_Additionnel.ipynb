{
  "cells": [
    {
      "cell_type": "markdown",
      "metadata": {
        "id": "2Ziz3QjU-D8H"
      },
      "source": [
        "<center><img style=\"text-align:center; margin:0 auto\" src=\"https://drive.google.com/uc?export=view&id=15uzPyvfgv3obSupxZAFHY21YA82yFs0M\" title=\"Logo UMAB\" alt=\"Logo UMAB\" width=\"221\" height=\"236\">\n",
        "\n",
        "<b>Université Abdelhamid Ibn Badis - Mostaganem\n",
        "    <br>Faculté des Sciences Exactes et de l'Informatique\n",
        "    <br>Département de Mathématiques et Informatique\n",
        "    <br>Master IA4IOT\n",
        "    <br>Programmation Avancée (Python)\n",
        "    </b></center>\n",
        "\n",
        "---\n"
      ]
    },
    {
      "cell_type": "markdown",
      "metadata": {
        "id": "GMpHtUNwHDPh",
        "tags": []
      },
      "source": [
        "# <center>TP 02 - Exercices supplémentaires : Affichage, lecture, variables et débogage</center>\n",
        "<b>Objectif</b> : L'objectif de ce second TP est de vous aider à vous familiariser avec le langage Python, à apprendre à bien utiliser les fonctions print et input pour l'affichage et la lecture. Vous ferez aussi vos premiers pas dans le débogage de code Python.  \n",
        "**Exercices basés sur les fiches de TP proposés par <a href=\"https://edogdu.github.io/teaching.html\">Erdogan Dogdu</a>.**"
      ]
    },
    {
      "cell_type": "markdown",
      "metadata": {
        "id": "HEjpZzpCP4sn"
      },
      "source": [
        "---\n",
        "<center><b>Nom et prénoms : ** WISSAL MANSERI **\n",
        "\n",
        "\n",
        "---"
      ]
    },
    {
      "cell_type": "markdown",
      "metadata": {
        "id": "sgxmff675W-9"
      },
      "source": [
        "<b>Question 1 :</b> Affichez le type de la variable x à l'aide de la fonction type"
      ]
    },
    {
      "cell_type": "code",
      "execution_count": null,
      "metadata": {
        "colab": {
          "base_uri": "https://localhost:8080/"
        },
        "id": "0sBteJRu50HX",
        "outputId": "a2014d72-b0c5-43c6-e435-0ee9ddb48e23"
      },
      "outputs": [
        {
          "output_type": "execute_result",
          "data": {
            "text/plain": [
              "float"
            ]
          },
          "metadata": {},
          "execution_count": 1
        }
      ],
      "source": [
        "x = 13.4\n",
        "#écrire votre code ici\n",
        "type (x)"
      ]
    },
    {
      "cell_type": "markdown",
      "metadata": {
        "id": "EPCmgM7t6Vp_"
      },
      "source": [
        "<b>Question 2 :</b> Affichez le type de la variable nom à l'aide de la fonction type"
      ]
    },
    {
      "cell_type": "code",
      "execution_count": null,
      "metadata": {
        "colab": {
          "base_uri": "https://localhost:8080/"
        },
        "id": "JW1FMlyd6sYt",
        "outputId": "d06b9a49-4c90-4894-9080-73bbb91a9d9d"
      },
      "outputs": [
        {
          "output_type": "execute_result",
          "data": {
            "text/plain": [
              "str"
            ]
          },
          "metadata": {},
          "execution_count": 2
        }
      ],
      "source": [
        "nom = 'Nour'\n",
        "#écrire votre code ici\n",
        "type (nom)"
      ]
    },
    {
      "cell_type": "markdown",
      "metadata": {
        "id": "FTd7422Q7sYH"
      },
      "source": [
        "<b>Question 3 :</b> Corrigez le code ci-dessous afin d'obtenir le résultat attendu"
      ]
    },
    {
      "cell_type": "code",
      "execution_count": null,
      "metadata": {
        "colab": {
          "base_uri": "https://localhost:8080/"
        },
        "id": "zmLjy_277xpk",
        "outputId": "aabf7d9b-cf09-4622-db91-3653e2e11521"
      },
      "outputs": [
        {
          "output_type": "stream",
          "name": "stdout",
          "text": [
            "6.4\n"
          ]
        }
      ],
      "source": [
        "x = '1.4'\n",
        "y = 5\n",
        "#Corrigez la ligne suivante\n",
        "print(float(x) + y)"
      ]
    },
    {
      "cell_type": "markdown",
      "metadata": {
        "id": "gh3oUt9T7-lV"
      },
      "source": [
        "<b>Question 4 :</b> Corrigez le code ci-dessous"
      ]
    },
    {
      "cell_type": "code",
      "execution_count": null,
      "metadata": {
        "colab": {
          "base_uri": "https://localhost:8080/"
        },
        "id": "VfEXUD7J79AL",
        "outputId": "f9a0db16-dcd8-469b-a38c-78b8fdbda833"
      },
      "outputs": [
        {
          "output_type": "stream",
          "name": "stdout",
          "text": [
            "ma variable\n"
          ]
        }
      ],
      "source": [
        "var = 'ma variable'\n",
        "print(var)"
      ]
    },
    {
      "cell_type": "markdown",
      "metadata": {
        "id": "vq3InyOT8O9t"
      },
      "source": [
        "<b>Question 5 :</b> Donnez l'expression pour l'équation ci-dessous et affichez la valeur obtenue en fonction des valeurs de x et y donnés\n",
        "\n",
        "<img style=\"text-align:center; margin:0 auto\" src=\"https://drive.google.com/uc?export=view&id=1cqq4YfDORfwyIWPIkmGPuyvW_n-cYd_E\" title=\"équation\" alt=\"équation\" width=\"538\" height=\"125\">"
      ]
    },
    {
      "cell_type": "code",
      "execution_count": null,
      "metadata": {
        "id": "xt7HlScR5qRU",
        "outputId": "20d6613d-c2b5-4d65-ec8a-a5c77b949d1b",
        "colab": {
          "base_uri": "https://localhost:8080/"
        }
      },
      "outputs": [
        {
          "output_type": "stream",
          "name": "stdout",
          "text": [
            "60.125\n"
          ]
        }
      ],
      "source": [
        "x = 5\n",
        "z = 2\n",
        "#écrire votre code ici\n",
        "w= 2*x+2*x**2+z**-3\n",
        "print(w)"
      ]
    },
    {
      "cell_type": "markdown",
      "metadata": {
        "id": "2U1B-Y1t80Wa"
      },
      "source": [
        "<b>Question 6 :</b> Donnez le résultat affiché pour chacune des instructions (sans exécuter le code)\n",
        "```python\n",
        "print(5%2) # Affichage 1:\n",
        "print(5//2) # Affichage 2:\n",
        "print(5/2) # Affichage 3:\n",
        "print(2**1**2) # Affichage 4:\n",
        "print((2**1)**2) # Affichage 5:\n",
        "print(2+3*4) # Affichage 6:\n",
        "print(3//4) # Affichage 7:\n",
        "```"
      ]
    },
    {
      "cell_type": "code",
      "execution_count": null,
      "metadata": {
        "id": "C2eOsbw18z2s"
      },
      "outputs": [],
      "source": [
        "#Affichage 1: 1\n",
        "#Affichage 2: 2\n",
        "#Affichage 3: 2,5\n",
        "#Affichage 4: 2\n",
        "#Affichage 5: 4\n",
        "#Affichage 6: 14\n",
        "#Affichage 7: 0"
      ]
    },
    {
      "cell_type": "markdown",
      "metadata": {
        "id": "uSM9C95x_0_C"
      },
      "source": [
        "<b>Question 7 :</b> Quel serait la valeur de x après l'exécution du code suivant\n",
        "```python\n",
        "a = 5\n",
        "x = 4\n",
        "x *= a + 1\n",
        "```"
      ]
    },
    {
      "cell_type": "code",
      "execution_count": null,
      "metadata": {
        "id": "t02Ku6Da8h-k"
      },
      "outputs": [],
      "source": [
        "#Donnez la valeur de x sans exécuter le code\n",
        "21"
      ]
    },
    {
      "cell_type": "markdown",
      "metadata": {
        "id": "JWu504mPEbie"
      },
      "source": [
        "<b>Question 8 :</b> Écrivez le code qui permettrait d'obtenir le résultat suivant (sans utilisation de boucles)\n",
        "\n",
        "<pre>\n",
        "Entrez un entier : 5\n",
        "\n",
        "5x0 = 0\n",
        "5x1 = 5\n",
        "5x2 = 10\n",
        "5x3 = 15\n",
        "5x4 = 20\n",
        "5x5 = 25\n",
        "5x6 = 30\n",
        "5x7 = 35\n",
        "5x8 = 40\n",
        "5x9 = 45\n",
        "</pre>\n",
        "\n"
      ]
    },
    {
      "cell_type": "code",
      "execution_count": null,
      "metadata": {
        "id": "KHucwEsMFKS4",
        "outputId": "483e4ca1-9605-4967-e251-d67bc552286e",
        "colab": {
          "base_uri": "https://localhost:8080/"
        }
      },
      "outputs": [
        {
          "output_type": "stream",
          "name": "stdout",
          "text": [
            "please enter a number5\n",
            "5 * 0 = 0\n",
            "5 * 1 = 5\n",
            "5 * 2 = 10\n",
            "5 * 3 = 15\n",
            "5 * 4 = 20\n",
            "5 * 5 = 25\n",
            "5 * 6 = 30\n",
            "5 * 7 = 35\n",
            "5 * 8 = 40\n",
            "5 * 9 = 45\n"
          ]
        }
      ],
      "source": [
        "#écrire votre code ici\n",
        "\n",
        "W = int(input(\"please enter a number\"))\n",
        "i=0\n",
        "print(W,\"*\" ,i,\"=\",i*W)\n",
        "print(W,\"*\" ,i+1,\"=\",i+1*W)\n",
        "print(W,\"*\" ,i+2,\"=\",i+2*W)\n",
        "print(W,\"*\" ,i+3,\"=\",i+3*W)\n",
        "print(W,\"*\" ,i+4,\"=\",i+4*W)\n",
        "print(W,\"*\" ,i+5,\"=\",i+5*W)\n",
        "print(W,\"*\" ,i+6,\"=\",i+6*W)\n",
        "print(W,\"*\" ,i+7,\"=\",i+7*W)\n",
        "print(W,\"*\" ,i+8,\"=\",i+8*W)\n",
        "print(W,\"*\" ,i+9,\"=\",i+9*W)\n",
        "\n"
      ]
    },
    {
      "cell_type": "markdown",
      "source": [],
      "metadata": {
        "id": "CR3rmI2b8R7z"
      }
    },
    {
      "cell_type": "code",
      "source": [],
      "metadata": {
        "id": "knWZFQsW8OMv"
      },
      "execution_count": null,
      "outputs": []
    },
    {
      "cell_type": "markdown",
      "metadata": {
        "id": "HlRW24BJP4sy"
      },
      "source": [
        "**<center>N'oubliez pas d'évaluer ce chapitre en utilisant <a href=\"https://forms.gle/yqMqmoyKNs1o6FqC7\">ce lien</a>. Merci pour votre collaboration !</br></center>**"
      ]
    }
  ],
  "metadata": {
    "colab": {
      "collapsed_sections": [],
      "provenance": []
    },
    "kernelspec": {
      "display_name": "Python 3 (ipykernel)",
      "language": "python",
      "name": "python3"
    },
    "language_info": {
      "codemirror_mode": {
        "name": "ipython",
        "version": 3
      },
      "file_extension": ".py",
      "mimetype": "text/x-python",
      "name": "python",
      "nbconvert_exporter": "python",
      "pygments_lexer": "ipython3",
      "version": "3.9.12"
    }
  },
  "nbformat": 4,
  "nbformat_minor": 0
}