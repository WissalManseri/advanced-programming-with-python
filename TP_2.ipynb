{
  "cells": [
    {
      "cell_type": "markdown",
      "id": "145900d4",
      "metadata": {
        "id": "145900d4"
      },
      "source": [
        "<img style=\"text-align:center; margin:0 auto\" src=\"https://drive.google.com/uc?export=view&id=15uzPyvfgv3obSupxZAFHY21YA82yFs0M\" title=\"Logo UMAB\" alt=\"Logo UMAB\" width=\"221\" height=\"236\">\n",
        "<center><b>Université Abdelhamid Ibn Badis - Mostaganem\n",
        "    <br>Faculté des Sciences Exactes et de l'Informatique\n",
        "    <br>Département de Mathématiques et Informatique\n",
        "    <br>Master IA4IOT\n",
        "    <br>Programmation Avancée (Python)\n",
        "    </b></center>\n",
        "\n",
        "---\n"
      ]
    },
    {
      "cell_type": "markdown",
      "id": "63f62105",
      "metadata": {
        "tags": [],
        "id": "63f62105"
      },
      "source": [
        "# <center>TP 02 : Affichage, lecture, variables et débogage</center>\n",
        "<b>Objectif</b> : L'objectif de ce second TP est de vous aider à vous familiariser avec le langage Python, à apprendre à bien utiliser les fonctions print et input pour l'affichage et la lecture. Vous ferez aussi vos premiers pas dans le débogage de code Python."
      ]
    },
    {
      "cell_type": "markdown",
      "id": "48901a32",
      "metadata": {
        "id": "48901a32"
      },
      "source": [
        "---\n",
        "<center><b>Nom et prénoms : ** WISSAL MANSERI ** \n",
        "\n",
        "\n",
        "\n",
        "---"
      ]
    },
    {
      "cell_type": "markdown",
      "id": "2b55934a",
      "metadata": {
        "id": "2b55934a"
      },
      "source": [
        "# Partie 1 : affichage avec Python\n",
        "La fonction print de Python permet d'afficher des messages, le contenu de variables à l'écran ou autres périphériques de sortie. Le message affiché peut être un string ou tout autre objet qui sera préalablement converti à un string avant qu'il ne soit affiché. La syntaxe de la fonction est comme suit :\n",
        "```python \n",
        "print(object(s), sep=separator, end=end, file=file, flush=flush) \n",
        "``` \n",
        "<table style=\"margin-top:10px; margin-left:10px;text-align: left\">\n",
        "  <thead>\n",
        "    <tr>\n",
        "      <th style=\"text-align: left\">Parameter</th>\n",
        "      <th style=\"text-align: left\">Descritpion</th>\n",
        "    </tr>\n",
        "  </thead>\n",
        "  <tbody>\n",
        "    <tr>\n",
        "      <td style=\"text-align: left\">object(s)</td>\n",
        "      <td style=\"text-align: left\">Any object, and as many as you like. Will be converted to string before printed</td>\n",
        "    </tr>\n",
        "    <tr>\n",
        "      <td style=\"text-align: left\">sep='separator'</td>\n",
        "      <td style=\"text-align: left\">Optional. Specify how to separate the objects, if there is more than one. Default is ' '</td>\n",
        "    </tr>\n",
        "    <tr>\n",
        "      <td style=\"text-align: left\">end='end'</td>\n",
        "      <td style=\"text-align: left\">Optional. Specify what to print at the end. Default is '\\n' (line feed)</td>\n",
        "    </tr>\n",
        "    <tr>\n",
        "      <td style=\"text-align: left\">file</td>\n",
        "      <td style=\"text-align: left\">Optional. An object with a write method. Default is sys.stdout</td>\n",
        "    </tr>\n",
        "    <tr>\n",
        "      <td style=\"text-align: left\">flush</td>\n",
        "      <td style=\"text-align: left\"> \tOptional. A Boolean, specifying if the output is flushed (True) or buffered (False). Default is False</td>\n",
        "    </tr>\n",
        "  </tbody>\n",
        "</table>\n",
        "\n"
      ]
    },
    {
      "cell_type": "markdown",
      "id": "9dcdc4a8",
      "metadata": {
        "id": "9dcdc4a8"
      },
      "source": [
        "<b>Exercice 1.1 :</b> Écrire le code Python dans la cellule ci-dessous (en utilisant la fonction print) qui permet d'afficher les messages suivants :\n",
        "<p style=\"padding: 10px; border: 1px solid black;\">\n",
        "TP 2 : Affichage, lecture, variables et débogage\n",
        "<br>L'affichage se fait à l'aide de la fonction print\n",
        "<br>print(\"Ceci est un exemple\")\n",
        "</p>"
      ]
    },
    {
      "cell_type": "code",
      "execution_count": 3,
      "id": "d52407a6",
      "metadata": {
        "colab": {
          "base_uri": "https://localhost:8080/"
        },
        "id": "d52407a6",
        "outputId": "d4fdfbec-5836-4ff8-b8a9-1bb6c0a02028"
      },
      "outputs": [
        {
          "output_type": "stream",
          "name": "stdout",
          "text": [
            "Affichage, lecture,varible et débogage\n",
            "L'affichege se fait à l'aide de la fonction print\n",
            "ceci est un message\n"
          ]
        }
      ],
      "source": [
        "#écrire votre code ici\n",
        "print(\"Affichage, lecture,varible et débogage\")\n",
        "print(\"L'affichege se fait à l'aide de la fonction print\")\n",
        "print(\"ceci est un message\")"
      ]
    },
    {
      "cell_type": "markdown",
      "id": "40bc6489",
      "metadata": {
        "id": "40bc6489"
      },
      "source": [
        "<b>Exercice 1.2 :</b> Écrire le code Python qui utilise la fonction print (**la fonction doit être appelée 3 fois**) pour afficher\n",
        "<p style=\"padding: 10px; border: 1px solid black;\">\n",
        "Message 1 Message 2 Message 3\n",
        "</p>"
      ]
    },
    {
      "cell_type": "code",
      "source": [
        "W = \" Message 1 Message 2 Message 3 \"\n",
        "print(3*W)"
      ],
      "metadata": {
        "colab": {
          "base_uri": "https://localhost:8080/"
        },
        "id": "M89_tgi-foQA",
        "outputId": "61e05dcb-43b2-4eec-c540-6e7cf08fc4a7"
      },
      "id": "M89_tgi-foQA",
      "execution_count": 18,
      "outputs": [
        {
          "output_type": "stream",
          "name": "stdout",
          "text": [
            " Message 1 Message 2 Message 3  Message 1 Message 2 Message 3  Message 1 Message 2 Message 3 \n"
          ]
        }
      ]
    },
    {
      "cell_type": "code",
      "execution_count": 4,
      "id": "5a8c9790",
      "metadata": {
        "colab": {
          "base_uri": "https://localhost:8080/",
          "height": 52
        },
        "id": "5a8c9790",
        "outputId": "ee9f61bb-7a34-4035-e715-9bdbfccdee44"
      },
      "outputs": [
        {
          "name": "stdout",
          "output_type": "stream",
          "text": [
            "veuillez saisir votre nom :wissal\n"
          ]
        },
        {
          "output_type": "execute_result",
          "data": {
            "text/plain": [
              "'wissal'"
            ],
            "application/vnd.google.colaboratory.intrinsic+json": {
              "type": "string"
            }
          },
          "metadata": {},
          "execution_count": 4
        }
      ],
      "source": [
        "#écrire votre code ici\n",
        "input('veuillez saisir votre nom :')"
      ]
    },
    {
      "cell_type": "markdown",
      "id": "2421d2b7",
      "metadata": {
        "id": "2421d2b7"
      },
      "source": [
        "<b>Exercice 1.3 :</b> Le code Python ci-dessous permet d'afficher 1 2 3 4.\n",
        "```python \n",
        "print(1, 2, 3, 4)\n",
        "``` \n",
        "En appelant la **fonction print deux fois et en utilisant les paramètres sep et end**, donner le code Python qui permet d'afficher\n",
        "<p style=\"padding: 10px; border: 1px solid black;\">\n",
        "1*2*3*4\n",
        "<br>1*2*3*4/2 \n",
        "</p>"
      ]
    },
    {
      "cell_type": "code",
      "execution_count": 7,
      "id": "8424ae87",
      "metadata": {
        "colab": {
          "base_uri": "https://localhost:8080/"
        },
        "id": "8424ae87",
        "outputId": "e6f7be3c-3cc9-4dbf-ce1f-6951f21278b5"
      },
      "outputs": [
        {
          "output_type": "stream",
          "name": "stdout",
          "text": [
            "1 2 3 4\n",
            "1*2*3*4\n",
            "1*2*3*4/2"
          ]
        }
      ],
      "source": [
        "print(1, 2, 3, 4)\n",
        "#écrire votre code ici\n",
        "print(1,2,3,4 ,sep=\"*\")\n",
        "print(1,2,3,4 ,sep=\"*\", end=\"/2\")\n"
      ]
    },
    {
      "cell_type": "markdown",
      "id": "51ddb7fd",
      "metadata": {
        "id": "51ddb7fd"
      },
      "source": [
        "# Partie 2 : les variables\n",
        "Une variable est un concept fondamental dans tout langage de programmation. Une variable n'est en fin de compte qu'un emplacement mémoire réservé afin de stocker et manipuler des données. Le code suivant permet de créer une variable de type entier\n",
        "```python \n",
        "x = 5\n",
        "``` \n",
        "Pour afficher le contenu de la variable, il suffit d'utiliser \n",
        "```python \n",
        "print(x)\n",
        "``` \n",
        "Afin afficher un message précédent la valeur\n",
        "```python \n",
        "print(\"La valeur est\", x)\n",
        "``` \n",
        "Python permet au programmeur de déterminer le type d'une variable grâce à la fonction type\n",
        "```python \n",
        "type(x)\n",
        "``` "
      ]
    },
    {
      "cell_type": "code",
      "execution_count": 29,
      "id": "71e0843b",
      "metadata": {
        "colab": {
          "base_uri": "https://localhost:8080/"
        },
        "id": "71e0843b",
        "outputId": "9313a22d-df33-4f38-85d1-728cfd026ea9"
      },
      "outputs": [
        {
          "output_type": "stream",
          "name": "stdout",
          "text": [
            "5\n",
            "La valeur est 5\n",
            "<class 'int'>\n"
          ]
        }
      ],
      "source": [
        "#ne modifiez pas le code ci-dessous\n",
        "x = 5\n",
        "print(x)\n",
        "print(\"La valeur est\", x)\n",
        "print(type(x))"
      ]
    },
    {
      "cell_type": "markdown",
      "id": "582ef067",
      "metadata": {
        "id": "582ef067"
      },
      "source": [
        "Python permet aussi d'initialiser plusieurs variables avec la même valeur Par exemple :\n",
        "```python \n",
        "a = b = c = 10\n",
        "``` "
      ]
    },
    {
      "cell_type": "code",
      "execution_count": 30,
      "id": "96ee5fac",
      "metadata": {
        "colab": {
          "base_uri": "https://localhost:8080/"
        },
        "id": "96ee5fac",
        "outputId": "5849644f-7a1a-4d93-fbbf-1aaa81d37aed"
      },
      "outputs": [
        {
          "output_type": "stream",
          "name": "stdout",
          "text": [
            "10\n",
            "10\n",
            "10\n"
          ]
        }
      ],
      "source": [
        "#ne modifiez pas le code ci-dessous\n",
        "a = b = c = 10\n",
        "print(a, b, c, sep='\\n')"
      ]
    },
    {
      "cell_type": "markdown",
      "id": "fd663aa9",
      "metadata": {
        "id": "fd663aa9"
      },
      "source": [
        "Vous pouvez aussi assigner différentes valeurs à différentes en même temps en utilisant\n",
        "```python \n",
        "a, b, c = 1, 2, 3\n",
        "``` "
      ]
    },
    {
      "cell_type": "code",
      "execution_count": 31,
      "id": "ea8e8033",
      "metadata": {
        "colab": {
          "base_uri": "https://localhost:8080/"
        },
        "id": "ea8e8033",
        "outputId": "2fa32545-fe2b-4fd3-c593-39c18ae479ee"
      },
      "outputs": [
        {
          "output_type": "stream",
          "name": "stdout",
          "text": [
            "1\n",
            "2\n",
            "3\n",
            "La somme est 6\n"
          ]
        }
      ],
      "source": [
        "#ne modifiez pas le code ci-dessous\n",
        "a, b, c = 1, 2, 3\n",
        "print(a, b, c, sep='\\n')\n",
        "print(\"La somme est\", a + b + c)"
      ]
    },
    {
      "cell_type": "markdown",
      "id": "6d1af6d2",
      "metadata": {
        "id": "6d1af6d2"
      },
      "source": [
        "En Python, une variable peut être déclarée avec un type qui peut être changé plus tard"
      ]
    },
    {
      "cell_type": "code",
      "execution_count": 32,
      "id": "2643e8d5",
      "metadata": {
        "colab": {
          "base_uri": "https://localhost:8080/"
        },
        "id": "2643e8d5",
        "outputId": "b3f6cf26-4e4d-4474-860c-182bfd5626d3"
      },
      "outputs": [
        {
          "output_type": "stream",
          "name": "stdout",
          "text": [
            "5\n",
            "C'est magique !\n"
          ]
        }
      ],
      "source": [
        "#ne modifiez pas le code ci-dessous\n",
        "y = 5\n",
        "print(y)\n",
        "y = \"C'est magique !\"\n",
        "print(y)"
      ]
    },
    {
      "cell_type": "markdown",
      "id": "5ed414b0",
      "metadata": {
        "id": "5ed414b0"
      },
      "source": [
        "<b>Exercice 2.1 :</b> Écrire un programme qui permet de permuter les valeurs de deux variables a et b (initialisez les variables a et b)"
      ]
    },
    {
      "cell_type": "code",
      "execution_count": 25,
      "id": "97ca328a",
      "metadata": {
        "colab": {
          "base_uri": "https://localhost:8080/"
        },
        "id": "97ca328a",
        "outputId": "71f4b1e6-69d5-4f45-ecd7-c1343ddffded"
      },
      "outputs": [
        {
          "output_type": "stream",
          "name": "stdout",
          "text": [
            "5 7\n",
            "7 5\n"
          ]
        }
      ],
      "source": [
        "#solution 1 : en utilisant une variable supplémentaire\n",
        "#écrire votre code ici\n",
        "A=5\n",
        "B=7\n",
        "print(A,B)\n",
        "C=A\n",
        "A=B\n",
        "B=C\n",
        "print(A,B)"
      ]
    },
    {
      "cell_type": "code",
      "execution_count": 26,
      "id": "9b06cd9c",
      "metadata": {
        "colab": {
          "base_uri": "https://localhost:8080/"
        },
        "id": "9b06cd9c",
        "outputId": "eec3c554-db86-407f-9332-8a44741ca441"
      },
      "outputs": [
        {
          "output_type": "stream",
          "name": "stdout",
          "text": [
            "5 7 7 5\n"
          ]
        }
      ],
      "source": [
        "#solution 2 : sans utiliser une variable supplémentaire\n",
        "#écrire votre code ici\n",
        "A=5\n",
        "B=7\n",
        "print(A,B , B,A)\n"
      ]
    },
    {
      "cell_type": "markdown",
      "id": "a32e9d71",
      "metadata": {
        "id": "a32e9d71"
      },
      "source": [
        "Résulat attendu pour a = 5 et b = 7 est <b> a = 7 et b = 8</b>"
      ]
    },
    {
      "cell_type": "markdown",
      "id": "e37e1050",
      "metadata": {
        "id": "e37e1050"
      },
      "source": [
        "<b>Exercice 2.2 :</b> Déclarez et initalisez deux variables puis calculez et affichez leur somme"
      ]
    },
    {
      "cell_type": "code",
      "execution_count": 27,
      "id": "895007fa",
      "metadata": {
        "colab": {
          "base_uri": "https://localhost:8080/"
        },
        "id": "895007fa",
        "outputId": "71a8d949-0fe2-45c3-e24a-57ac403d7bdf"
      },
      "outputs": [
        {
          "output_type": "stream",
          "name": "stdout",
          "text": [
            "26\n"
          ]
        }
      ],
      "source": [
        "#solution 1 : en utilisant une variable pour stocker le résultat de l'addition\n",
        "#écrire votre code ici\n",
        "A=2\n",
        "B=24\n",
        "C= A+B\n",
        "print(C)\n"
      ]
    },
    {
      "cell_type": "code",
      "execution_count": 28,
      "id": "5e345163",
      "metadata": {
        "colab": {
          "base_uri": "https://localhost:8080/"
        },
        "id": "5e345163",
        "outputId": "6e1068b8-6e1c-4078-c999-743a3ae6d2c2"
      },
      "outputs": [
        {
          "output_type": "stream",
          "name": "stdout",
          "text": [
            "26\n"
          ]
        }
      ],
      "source": [
        "#solution 2 : sans utiliser une variable pour stocker le résultat de l'addition\n",
        "#écrire votre code ici\n",
        "A=2\n",
        "B=24\n",
        "print(A+B)"
      ]
    },
    {
      "cell_type": "markdown",
      "id": "11557a35",
      "metadata": {
        "id": "11557a35"
      },
      "source": [
        "<b>Exercice 2.3 :</b> Donnez la valeur affichée des bouts de code suivants :\n",
        "```python \n",
        "#code 1\n",
        "a = 4\n",
        "b = a - 2\n",
        "print(a * b)\n",
        "#code 2\n",
        "a = 6\n",
        "a = a - 3\n",
        "a = a * a + 2\n",
        "#code 3\n",
        "a = 7\n",
        "b = a // 2\n",
        "print(a * b)\n",
        "#code 4\n",
        "a = \"Bonjour\"\n",
        "b = \"Salut\"\n",
        "print(a + b)\n",
        "#code 5\n",
        "a = a + 2\n",
        "print(a)\n",
        "``` "
      ]
    },
    {
      "cell_type": "code",
      "source": [
        "a = a + 2\n",
        "print(a)"
      ],
      "metadata": {
        "colab": {
          "base_uri": "https://localhost:8080/"
        },
        "id": "kDBWVsMulkEZ",
        "outputId": "00a91737-93d0-4002-ace9-c4330b3a0a12"
      },
      "id": "kDBWVsMulkEZ",
      "execution_count": 33,
      "outputs": [
        {
          "output_type": "stream",
          "name": "stdout",
          "text": [
            "3\n"
          ]
        }
      ]
    },
    {
      "cell_type": "code",
      "execution_count": 34,
      "id": "c93068b7",
      "metadata": {
        "colab": {
          "base_uri": "https://localhost:8080/"
        },
        "id": "c93068b7",
        "outputId": "3123d227-9626-4d2d-edf9-26aac33097dc"
      },
      "outputs": [
        {
          "output_type": "execute_result",
          "data": {
            "text/plain": [
              "21"
            ]
          },
          "metadata": {},
          "execution_count": 34
        }
      ],
      "source": [
        "#donner les valeurs affichées ci-dessous\n",
        "#code 1\n",
        "8\n",
        "#code 2\n",
        "#Since our code does not contain a print so we will have no display\n",
        "#if we had a print the result of a would be 11\n",
        "#code 3\n",
        "21\n",
        "#code 4\n",
        "#BonjourSalut\n",
        "#code 5\n",
        "#Our program will take values ​​randomly and suddenly each time we will have a different result 3 or 5 ect....."
      ]
    },
    {
      "cell_type": "markdown",
      "id": "5d9f20ff",
      "metadata": {
        "id": "5d9f20ff"
      },
      "source": [
        "### Transtypage\n",
        "Comme la plupart des langages de programmation, Python de permet de changer le type d'une variable, quand possible, qu'on appel transtypage ou casting. Nous allons considérer trois fonctions utilisées pour le transtypage ***int***, ***float*** et ***str***.\n",
        "```python \n",
        "int(value, base)\n",
        "``` \n",
        "<table style=\"margin-top:10px; margin-left:10px;text-align: left\">\n",
        "  <thead>\n",
        "    <tr>\n",
        "      <th style=\"text-align: left\">Parameter</th>\n",
        "      <th style=\"text-align: left\">Descritpion</th>\n",
        "    </tr>\n",
        "  </thead>\n",
        "  <tbody>\n",
        "    <tr>\n",
        "      <td style=\"text-align: left\">value</td>\n",
        "      <td style=\"text-align: left\">A number or a string that can be converted into an integer number</td>\n",
        "    </tr>\n",
        "    <tr>\n",
        "      <td style=\"text-align: left\">base</td>\n",
        "      <td style=\"text-align: left\">A number representing the number format. Default value: 10</td>\n",
        "    </tr>\n",
        "  </tbody>\n",
        "</table>\n",
        "\n",
        "```python \n",
        "float(value)\n",
        "``` \n",
        "<table style=\"margin-top:10px; margin-left:10px;text-align: left\">\n",
        "  <thead>\n",
        "    <tr>\n",
        "      <th style=\"text-align: left\">Parameter</th>\n",
        "      <th style=\"text-align: left\">Descritpion</th>\n",
        "    </tr>\n",
        "  </thead>\n",
        "  <tbody>\n",
        "    <tr>\n",
        "      <td style=\"text-align: left\">value</td>\n",
        "      <td style=\"text-align: left\">A number or a string that can be converted into a floating point number</td>\n",
        "    </tr>\n",
        "    \n",
        "  </tbody>\n",
        "</table>\n",
        "\n",
        "```python \n",
        "str(object, encoding=encoding, errors=errors) \n",
        "``` \n",
        "<table style=\"margin-top:10px; margin-left:10px;text-align: left\">\n",
        "  <thead>\n",
        "    <tr>\n",
        "      <th style=\"text-align: left\">Parameter</th>\n",
        "      <th style=\"text-align: left\">Descritpion</th>\n",
        "    </tr>\n",
        "  </thead>\n",
        "  <tbody>\n",
        "    <tr>\n",
        "      <td style=\"text-align: left\">object</td>\n",
        "      <td style=\"text-align: left\">Any object. Specifies the object to convert into a string</td>\n",
        "    </tr>\n",
        "    <tr>\n",
        "      <td style=\"text-align: left\">encoding</td>\n",
        "      <td style=\"text-align: left\">The encoding of the object. Default is UTF-8</td>\n",
        "    </tr>\n",
        "    <tr>\n",
        "      <td style=\"text-align: left\">errors</td>\n",
        "      <td style=\"text-align: left\">Specifies what to do if the decoding fails</td>\n",
        "    </tr>\n",
        "    \n",
        "  </tbody>\n",
        "</table>\n",
        "Pour illustrer le casting, nous allons créer une variable de type int que nous allons convertir par la suite en str."
      ]
    },
    {
      "cell_type": "code",
      "execution_count": 36,
      "id": "713962fb",
      "metadata": {
        "colab": {
          "base_uri": "https://localhost:8080/"
        },
        "id": "713962fb",
        "outputId": "f31ba39f-9028-43a5-f2b1-16447bf474e0"
      },
      "outputs": [
        {
          "output_type": "stream",
          "name": "stdout",
          "text": [
            "<class 'int'>\n",
            "<class 'str'>\n"
          ]
        }
      ],
      "source": [
        "#ne modifiez pas le code ci-dessous\n",
        "a = 5\n",
        "print(type(a))\n",
        "a = str(a)\n",
        "print(type(a))"
      ]
    },
    {
      "cell_type": "markdown",
      "id": "4375fa75",
      "metadata": {
        "id": "4375fa75"
      },
      "source": [
        "De la même manière, la conversion d'une variable de str en int ou float "
      ]
    },
    {
      "cell_type": "code",
      "execution_count": 35,
      "id": "8e7852bd",
      "metadata": {
        "colab": {
          "base_uri": "https://localhost:8080/"
        },
        "id": "8e7852bd",
        "outputId": "62afdaaa-97fd-4314-a055-5e40ca7e717c"
      },
      "outputs": [
        {
          "output_type": "stream",
          "name": "stdout",
          "text": [
            "<class 'str'> <class 'str'>\n",
            "<class 'int'> <class 'float'>\n"
          ]
        }
      ],
      "source": [
        "#ne modifiez pas le code ci-dessous\n",
        "a = \"5\"\n",
        "b = \"5.5\"\n",
        "print(type(a), type(b))\n",
        "a = int(\"5\")\n",
        "b = float(\"5.5\")\n",
        "print(type(a), type(b))"
      ]
    },
    {
      "cell_type": "code",
      "execution_count": 45,
      "id": "5253cac0",
      "metadata": {
        "colab": {
          "base_uri": "https://localhost:8080/"
        },
        "id": "5253cac0",
        "outputId": "a6353916-6bf7-40cd-d922-1c16374770d2"
      },
      "outputs": [
        {
          "output_type": "stream",
          "name": "stdout",
          "text": [
            "<class 'str'>\n",
            "<class 'str'>\n"
          ]
        }
      ],
      "source": [
        "#ne modifiez pas le code ci-dessous\n",
        "a = \"abc\"\n",
        "print(type(a))\n",
        "#a = int(a) #va causer une erreur! Il faut être qu'il soit possible de caster la variable avant de le faire.\n",
        "print(type(a))"
      ]
    },
    {
      "cell_type": "markdown",
      "id": "30aaba88",
      "metadata": {
        "id": "30aaba88"
      },
      "source": [
        "### Mise en forme de la sortie (formatting)\n",
        "Il est des fois nécessaire de mettre en forme la sortie afin qu'elle soit plus attractive ou mieux organisée. Ceci peut être fait de plusieurs manières :"
      ]
    },
    {
      "cell_type": "code",
      "execution_count": 38,
      "id": "8b9916fc",
      "metadata": {
        "colab": {
          "base_uri": "https://localhost:8080/"
        },
        "id": "8b9916fc",
        "outputId": "86bddf96-a5a9-4c6e-883f-5263e3cc1819"
      },
      "outputs": [
        {
          "output_type": "stream",
          "name": "stdout",
          "text": [
            "Mon nom est Amine et j'ai 22 ans\n"
          ]
        }
      ],
      "source": [
        "#ne modifiez pas le code ci-dessous\n",
        "nom = \"Amine\"\n",
        "age = 22\n",
        "print(\"Mon nom est\", nom, \"et j'ai\", age, \"ans\")"
      ]
    },
    {
      "cell_type": "markdown",
      "id": "642ead63",
      "metadata": {
        "id": "642ead63"
      },
      "source": [
        "Vous pouvez aussi utiliser la fonction format de la classe str qui permet de convertir un objet en string tout en les insérant dans les espaces réservés (placeholder) {}\n",
        "```python\n",
        "string.format(value1, value2...)\n",
        "```\n",
        "*Pour plus d'informations consultez le lien https://www.w3schools.com/python/ref_string_format.asp*"
      ]
    },
    {
      "cell_type": "code",
      "execution_count": 39,
      "id": "a3421df6",
      "metadata": {
        "colab": {
          "base_uri": "https://localhost:8080/"
        },
        "id": "a3421df6",
        "outputId": "30a0ec73-3a1d-45a4-c049-fc647aba97bc"
      },
      "outputs": [
        {
          "output_type": "stream",
          "name": "stdout",
          "text": [
            "Mon nom est Amine et j'ai 22 ans\n"
          ]
        }
      ],
      "source": [
        "#ne modifiez pas le code ci-dessous\n",
        "print(\"Mon nom est {} et j'ai {} ans\".format(nom, age))"
      ]
    },
    {
      "cell_type": "markdown",
      "id": "fc4c4eab",
      "metadata": {
        "id": "fc4c4eab"
      },
      "source": [
        "Notez que l'ordre des variables ici est important, car en inversant nom et age dans la fonction format on obtiendrait "
      ]
    },
    {
      "cell_type": "code",
      "execution_count": 40,
      "id": "c015746d",
      "metadata": {
        "colab": {
          "base_uri": "https://localhost:8080/"
        },
        "id": "c015746d",
        "outputId": "9ffb62bd-5b9e-471f-f75f-61e6abd7d92c"
      },
      "outputs": [
        {
          "output_type": "stream",
          "name": "stdout",
          "text": [
            "Mon nom est 22 et j'ai Amine ans\n"
          ]
        }
      ],
      "source": [
        "#ne modifiez pas le code ci-dessous\n",
        "print(\"Mon nom est {} et j'ai {} ans\".format(age, nom))"
      ]
    },
    {
      "cell_type": "markdown",
      "id": "df515355",
      "metadata": {
        "id": "df515355"
      },
      "source": [
        "qui n'est pas le résultat souhaité. Par contre, les espaces réservés (placeholders) peuvent être identifiés grâce à des index nommés (named idexes) ce qui nous permet de changer le positionnement des variables à volonté"
      ]
    },
    {
      "cell_type": "code",
      "execution_count": 41,
      "id": "79bc6ef9",
      "metadata": {
        "colab": {
          "base_uri": "https://localhost:8080/"
        },
        "id": "79bc6ef9",
        "outputId": "cde3cb9e-3adc-4781-daa1-33180874eb42"
      },
      "outputs": [
        {
          "output_type": "stream",
          "name": "stdout",
          "text": [
            "Mon nom est Amine et j'ai 22 ans\n",
            "Mon nom est Amine et j'ai 22 ans\n"
          ]
        }
      ],
      "source": [
        "#ne modifiez pas le code ci-dessous\n",
        "print(\"Mon nom est {n} et j'ai {a} ans\".format(a=age, n=nom))\n",
        "print(\"Mon nom est {n} et j'ai {a} ans\".format(n=nom, a=age)) \n",
        "#notez que nous avons changé les positions de variables dans le string dans le second print"
      ]
    },
    {
      "cell_type": "markdown",
      "id": "8e789069",
      "metadata": {
        "id": "8e789069"
      },
      "source": [
        "La fonction printf en langage C permet de définir le nombre de chiffres après la virgule rajouter de l'espace avant le contenu de la variable entre autres. La fonction format de la classe string en Python permet de faire de même"
      ]
    },
    {
      "cell_type": "code",
      "execution_count": 42,
      "id": "70ca9d8b",
      "metadata": {
        "colab": {
          "base_uri": "https://localhost:8080/"
        },
        "id": "70ca9d8b",
        "outputId": "9a332afd-e394-4eca-dc8d-f353c5c82609"
      },
      "outputs": [
        {
          "output_type": "stream",
          "name": "stdout",
          "text": [
            "La valeur de pi est 3.141592\n",
            "La valeur de pi est 3.14\n"
          ]
        }
      ],
      "source": [
        "#ne modifiez pas le code ci-dessous\n",
        "pi = 3.141592\n",
        "print(\"La valeur de pi est\", pi)\n",
        "print(\"La valeur de pi est {:.2f}\".format(pi)) #affiche deux chiffres après la virgule (la valeur est arrondie)"
      ]
    },
    {
      "cell_type": "markdown",
      "id": "64da1e8a",
      "metadata": {
        "id": "64da1e8a"
      },
      "source": [
        "La fonction format permet aussi de rajouter des espaces devant les valeurs ou bien la disposition du texte, qui est utile pour afficher les valeurs sous forme tabulaire."
      ]
    },
    {
      "cell_type": "code",
      "execution_count": 43,
      "id": "45c05f7c",
      "metadata": {
        "colab": {
          "base_uri": "https://localhost:8080/"
        },
        "id": "45c05f7c",
        "outputId": "c9396a46-0777-44d5-b298-de94dacdee0e"
      },
      "outputs": [
        {
          "output_type": "stream",
          "name": "stdout",
          "text": [
            "Nom       Age       \n",
            "Amine     22        \n",
            "Nour      24        \n"
          ]
        }
      ],
      "source": [
        "#ne modifiez pas le code ci-dessous\n",
        "print(\"{:<10s}{:<10s}\".format(\"Nom\", \"Age\"))\n",
        "print(\"{:<10s}{:<10d}\".format(\"Amine\", 22))\n",
        "print(\"{:<10s}{:<10d}\".format(\"Nour\", 24))"
      ]
    },
    {
      "cell_type": "markdown",
      "id": "7b217ae3",
      "metadata": {
        "id": "7b217ae3"
      },
      "source": [
        "Une autre alternative existe avec les versions récentes de Python (3.6 et plus) et qui consiste à utiliser ***f-String***"
      ]
    },
    {
      "cell_type": "code",
      "execution_count": 44,
      "id": "25b96d84",
      "metadata": {
        "colab": {
          "base_uri": "https://localhost:8080/"
        },
        "id": "25b96d84",
        "outputId": "0951c6b6-a945-445e-aafa-d6edabe5dd09"
      },
      "outputs": [
        {
          "output_type": "stream",
          "name": "stdout",
          "text": [
            "Mon nom est Amine et j'ai 22 ans\n",
            "\n",
            "Nom       Age       \n",
            "Amine     22        \n",
            "Nour      24        \n"
          ]
        }
      ],
      "source": [
        "#ne modifiez pas le code ci-dessous\n",
        "nom = \"Amine\"\n",
        "age = 22\n",
        "print(f\"Mon nom est {nom} et j'ai {age} ans\")\n",
        "print()\n",
        "#affichage sous forme de tableau\n",
        "print(f'{\"Nom\":<10s}{\"Age\":<10s}')\n",
        "print(f'{\"Amine\":<10s}{22:<10d}')\n",
        "print(f'{\"Nour\":<10s}{24:<10d}')"
      ]
    },
    {
      "cell_type": "markdown",
      "id": "7e91d02c",
      "metadata": {
        "id": "7e91d02c"
      },
      "source": [
        "### Convention d'appellation (choix des noms des variables)\n",
        "Une variable peut avoir un nom court comme a ou b ou peut être plus descriptive (recommandé) comme (nom, somme, prix). Pour nommer une variable, il faut respecter les règles suivantes :\n",
        "* Le nom d'une variable doit commencer par une lettre (majuscule ou minuscule) ou bien un trait de soulignement (_) (underscore en anglais). Par exemple age, Age ou _age\n",
        "* Le nom d'une variable ne peut pas commencer par un chiffre. Par exemple 2age\n",
        "* Le nom d'une variable peut contenir des caractères alphanumériques ou bien un train de soulignement. Par exemple age-2,  age&2 ou age 2 ne sont pas corrects\n",
        "* Le noms de variables sont sensibles à la casse la variable NOM et différente des variables Nom ou nom\n",
        "Néanmoins, il existe certaines bonnes pratiques (convention d'appellation) qu'il est conseillé de suivre lors du choix des noms des variables afin de faciliter la lecture et la compréhension du code par les développeur, spécialement lorsqu'il s'agit de projet où plusieurs développeurs contribuent.\n",
        "\n",
        "Les trois conventions de nommage (appellation) les plus utilisés sont :\n",
        "\n",
        "<img src=\"https://drive.google.com/uc?export=view&id=1fBX9X1vfTP9-vjrDqd0zhW33Om1MjQRM\" title=\"Camel, Snake & Pascal case\" alt=\"Camel, Snake & Pascal case\" width=\"877\" height=\"308\">\n",
        "\n",
        "* Camel Case : le premier mot est écrit en minuscule alors que les mots suivants commencent par une majuscule afin de rendre les limites des mots plus facile à voir. Par exemple **nombreEtudiantsInscrits**\n",
        "* Pascal Case : similaire au Camel Case, sauf que le premier mot commence aussi par une majuscule. Par exemple **NombreEtudiantsInscrits**\n",
        "* Sanke Case : les mots sont séparés par des traits de soulignement. Ce style est plus fréquemment utilisé pour le langage Python. Par exemple **nombre_etudiants_inscrits**"
      ]
    },
    {
      "cell_type": "markdown",
      "id": "1d88976a",
      "metadata": {
        "id": "1d88976a"
      },
      "source": [
        "### Mots clés réservés\n",
        "Le langage Python comprend différents mots clés qui ne peuvent être utilisé pour nommer des variables/objets. Ces mots clés sont comme suit :\n",
        "<table style=\"margin-top:10px; margin-left:10px;text-align: left\">\n",
        "  <tbody>\n",
        "    <tr>\n",
        "      <td style=\"text-align: left\">False</td>\n",
        "      <td style=\"text-align: left\">def</td>\n",
        "      <td style=\"text-align: left\">if</td>\n",
        "      <td style=\"text-align: left\">raise</td>\n",
        "    </tr>\n",
        "    <tr>\n",
        "      <td style=\"text-align: left\">None</td>\n",
        "      <td style=\"text-align: left\">del</td>\n",
        "      <td style=\"text-align: left\">import</td>\n",
        "      <td style=\"text-align: left\">return</td>\n",
        "    </tr>\n",
        "    <tr>\n",
        "      <td style=\"text-align: left\">True</td>\n",
        "      <td style=\"text-align: left\">elif</td>\n",
        "      <td style=\"text-align: left\">in</td>\n",
        "      <td style=\"text-align: left\">try</td>\n",
        "    </tr>\n",
        "    <tr>\n",
        "      <td style=\"text-align: left\">and</td>\n",
        "      <td style=\"text-align: left\">else</td>\n",
        "      <td style=\"text-align: left\">is</td>\n",
        "      <td style=\"text-align: left\">while</td>\n",
        "    </tr>\n",
        "    <tr>\n",
        "      <td style=\"text-align: left\">as</td>\n",
        "      <td style=\"text-align: left\">except</td>\n",
        "      <td style=\"text-align: left\">lambda</td>\n",
        "      <td style=\"text-align: left\">with</td>\n",
        "    </tr>\n",
        "    <tr>\n",
        "      <td style=\"text-align: left\">assert</td>\n",
        "      <td style=\"text-align: left\">finally</td>\n",
        "      <td style=\"text-align: left\">nonlocal</td>\n",
        "      <td style=\"text-align: left\">yield</td>\n",
        "    </tr>\n",
        "    <tr>\n",
        "      <td style=\"text-align: left\">break</td>\n",
        "      <td style=\"text-align: left\">for</td>\n",
        "      <td style=\"text-align: left\">not</td>\n",
        "      <td style=\"text-align: left\">class</td>\n",
        "    </tr>\n",
        "    <tr>\n",
        "      <td style=\"text-align: left\">from</td>\n",
        "      <td style=\"text-align: left\">or</td>\n",
        "      <td style=\"text-align: left\">continue</td>\n",
        "      <td style=\"text-align: left\">global</td>\n",
        "    </tr>\n",
        "    <tr>\n",
        "      <td style=\"text-align: left\">pass</td>\n",
        "      <td style=\"text-align: left\"></td>\n",
        "      <td style=\"text-align: left\"></td>\n",
        "      <td style=\"text-align: left\"></td>\n",
        "    </tr>\n",
        "  </tbody>\n",
        "</table>"
      ]
    },
    {
      "cell_type": "markdown",
      "id": "9baf5098",
      "metadata": {
        "id": "9baf5098"
      },
      "source": [
        "# Partie 3 : lecture de données\n",
        "Les programmes présentés ou créés jusque là ne permettaient pas à l'utilisateur d'interagir avec le programme, nous allons donc maintenant couvrir la fonction ***input*** qui permet une certaine flexibilité.\n",
        "```python \n",
        "input(prompt)\n",
        "``` \n",
        "<table style=\"margin-top:10px; margin-left:10px;text-align: left\">\n",
        "  <thead>\n",
        "    <tr>\n",
        "      <th style=\"text-align: left\">Parameter</th>\n",
        "      <th style=\"text-align: left\">Descritpion</th>\n",
        "    </tr>\n",
        "  </thead>\n",
        "  <tbody>\n",
        "    <tr>\n",
        "      <td style=\"text-align: left\">prompt</td>\n",
        "      <td style=\"text-align: left\">A String, representing a default message before the input.</td>\n",
        "    </tr>\n",
        "  </tbody>\n",
        "</table>\n",
        "Le code ci-dessous permet à l'utilisateur de saisir la valeur demandée par le programme :"
      ]
    },
    {
      "cell_type": "code",
      "execution_count": 62,
      "id": "f1be19c1",
      "metadata": {
        "colab": {
          "base_uri": "https://localhost:8080/",
          "height": 52
        },
        "id": "f1be19c1",
        "outputId": "f96fedb1-b0c1-4efa-ca6b-a1a1951ed1a5"
      },
      "outputs": [
        {
          "name": "stdout",
          "output_type": "stream",
          "text": [
            "Entrez votre nom WISSAL\n"
          ]
        },
        {
          "output_type": "execute_result",
          "data": {
            "text/plain": [
              "'WISSAL'"
            ],
            "application/vnd.google.colaboratory.intrinsic+json": {
              "type": "string"
            }
          },
          "metadata": {},
          "execution_count": 62
        }
      ],
      "source": [
        "#ne modifiez pas le code ci-dessous\n",
        "#exécutez cette cellule\n",
        "input(\"Entrez votre nom \")"
      ]
    },
    {
      "cell_type": "markdown",
      "id": "4bb63745",
      "metadata": {
        "id": "4bb63745"
      },
      "source": [
        "Notez que la valeur entrée par l'utilisateur n'est stockée nul part et est affichée par Jupyter Notebook car la fonction retourne une valeur ce qui n'est le cas des autres IDE (la valeur ne sera pas affichée). Ainsi, il est possible de créer une variable qui va recevoir la valeur"
      ]
    },
    {
      "cell_type": "code",
      "execution_count": 61,
      "id": "2229be7e-777b-45cc-88e7-df678b502e03",
      "metadata": {
        "colab": {
          "base_uri": "https://localhost:8080/"
        },
        "id": "2229be7e-777b-45cc-88e7-df678b502e03",
        "outputId": "cfdbda6e-e0a4-489d-c89d-2590e00ae8a9"
      },
      "outputs": [
        {
          "output_type": "stream",
          "name": "stdout",
          "text": [
            "Entrez votre nom WISSAL MN\n",
            "Votre nom est WISSAL MN\n"
          ]
        }
      ],
      "source": [
        "#ne modifiez pas le code ci-dessous\n",
        "#exécutez cette cellule\n",
        "nom = input(\"Entrez votre nom \")\n",
        "print(\"Votre nom est\", nom)"
      ]
    },
    {
      "cell_type": "markdown",
      "id": "d6e863f6",
      "metadata": {
        "id": "d6e863f6"
      },
      "source": [
        "Il est important de noter que la valeur retournée par la fonction input est de type string"
      ]
    },
    {
      "cell_type": "code",
      "execution_count": 60,
      "id": "eac69292",
      "metadata": {
        "colab": {
          "base_uri": "https://localhost:8080/"
        },
        "id": "eac69292",
        "outputId": "efb729e9-1aa2-4886-a32c-6dc66ea7eb7e"
      },
      "outputs": [
        {
          "output_type": "stream",
          "name": "stdout",
          "text": [
            "Entez un numéro 12345\n",
            "<class 'str'>\n"
          ]
        }
      ],
      "source": [
        "#ne modifiez pas le code ci-dessous\n",
        "#exécutez cette cellule\n",
        "n = input(\"Entez un numéro \")\n",
        "print(type(n))"
      ]
    },
    {
      "cell_type": "markdown",
      "id": "6c94bda6",
      "metadata": {
        "id": "6c94bda6"
      },
      "source": [
        "Ainsi, il devient nécessaire de convertir la valeur en entrée en entier ou float pour afin de réaliser des opérations arithmétiques entre autres. L'opération de conversion (cast) se fait à l'aide des fonctions ***int*** ou ***float***. Cependant, la conversion peut cause des erreurs si la valeur entrée par l'utilisateur ne peut être convertie en entier ou flottant par exemple \"abc\"."
      ]
    },
    {
      "cell_type": "code",
      "execution_count": 59,
      "id": "f42848b0",
      "metadata": {
        "colab": {
          "base_uri": "https://localhost:8080/"
        },
        "id": "f42848b0",
        "outputId": "c238de29-13dd-480a-ea83-4571f2fb9b3b"
      },
      "outputs": [
        {
          "output_type": "stream",
          "name": "stdout",
          "text": [
            "Entez un entier 12\n",
            "<class 'int'>\n"
          ]
        }
      ],
      "source": [
        "#ne modifiez pas le code ci-dessous\n",
        "#exécutez cette cellule\n",
        "n = int(input(\"Entez un entier \"))\n",
        "print(type(n))"
      ]
    },
    {
      "cell_type": "code",
      "execution_count": 57,
      "id": "1f17fd1a",
      "metadata": {
        "colab": {
          "base_uri": "https://localhost:8080/"
        },
        "id": "1f17fd1a",
        "outputId": "6574d142-20d4-4f0b-a89f-13abe1cdf9ab"
      },
      "outputs": [
        {
          "output_type": "stream",
          "name": "stdout",
          "text": [
            "Entez un nombre réel 1\n",
            "<class 'float'>\n"
          ]
        }
      ],
      "source": [
        "#ne modifiez pas le code ci-dessous\n",
        "#exécutez cette cellule\n",
        "n = float(input(\"Entez un nombre réel \"))\n",
        "print(type(n))"
      ]
    },
    {
      "cell_type": "markdown",
      "id": "2b73f884",
      "metadata": {
        "id": "2b73f884"
      },
      "source": [
        "<b>Exercice 3.1 :</b> Écrire un programme qui demande à l'utilisateur de saisir son nom et d'affiche le nombre de lettres (taille de la chaîne de caractères)"
      ]
    },
    {
      "cell_type": "code",
      "execution_count": 48,
      "id": "e052e4d6",
      "metadata": {
        "colab": {
          "base_uri": "https://localhost:8080/"
        },
        "id": "e052e4d6",
        "outputId": "f53de8cb-ccc1-4008-9e7b-f510254aa983"
      },
      "outputs": [
        {
          "output_type": "stream",
          "name": "stdout",
          "text": [
            "enter your non : wissal\n",
            "6\n"
          ]
        }
      ],
      "source": [
        "#écrire votre code ici\n",
        "W = str(input(\"enter your non : \"))\n",
        "print(len(W))"
      ]
    },
    {
      "cell_type": "markdown",
      "id": "46a192b4",
      "metadata": {
        "id": "46a192b4"
      },
      "source": [
        "<b>Exercice 3.2 :</b> Expliquez le code suivant (sans exécution, puis exécutez le pour vérifier votre réponse)\n",
        "```python\n",
        "print(\"Bonjour \" + input(\"Entrez votre nom \"))\n",
        "```"
      ]
    },
    {
      "cell_type": "code",
      "execution_count": 49,
      "id": "ee6c7db9",
      "metadata": {
        "id": "ee6c7db9"
      },
      "outputs": [],
      "source": [
        "#donnez votre réponse\n",
        "#Bonjour WISSAL \n",
        "#This program will concatenate between the character string Hello and the name entered by the user and it will leave a space between these two Because after the Hello string there is a space"
      ]
    },
    {
      "cell_type": "markdown",
      "id": "c9a9a13e",
      "metadata": {
        "id": "c9a9a13e"
      },
      "source": [
        "<b>Exercice 3.3 :</b> Écrire un programme qui utilise la fonction print et qui après exécution donne génère l'affichage suivant :\n",
        "<p style=\"padding: 10px; border: 1px solid black;\">\n",
        "Entrez votre nom : Nour\n",
        "<br>Quel est votre âge Nour? 24\n",
        "<br>Votre nom est Nour et vous avez 24 ans\n",
        "</p>"
      ]
    },
    {
      "cell_type": "code",
      "execution_count": 53,
      "id": "0eefeb3e",
      "metadata": {
        "colab": {
          "base_uri": "https://localhost:8080/"
        },
        "id": "0eefeb3e",
        "outputId": "e1bb2266-adc1-4a60-93e3-8a514b602388"
      },
      "outputs": [
        {
          "output_type": "stream",
          "name": "stdout",
          "text": [
            "Entrez votre nom Nour\n",
            "Quel est votre âge Nour?24\n",
            "Votre nom est Nour et vous avez 24 ans\n"
          ]
        }
      ],
      "source": [
        "#écrire votre code ici\n",
        "A = input(\"Entrez votre nom \")\n",
        "B= input(\"Quel est votre âge Nour?\")\n",
        "print(\"Votre nom est {} et vous avez {} ans\".format(A ,B))"
      ]
    },
    {
      "cell_type": "markdown",
      "id": "644e8979",
      "metadata": {
        "id": "644e8979"
      },
      "source": [
        "<b>Exercice 3.4 :</b> Écrire un programme qui permet de permuter les valeurs de deux variables a et b. Utilisez la fonction input pour obtenir les valeurs de l'utilisateur."
      ]
    },
    {
      "cell_type": "code",
      "execution_count": 55,
      "id": "f6bec10f",
      "metadata": {
        "colab": {
          "base_uri": "https://localhost:8080/"
        },
        "id": "f6bec10f",
        "outputId": "c4300748-f113-4bc3-a3a5-6ef5909d6258"
      },
      "outputs": [
        {
          "output_type": "stream",
          "name": "stdout",
          "text": [
            "Enter a number24\n",
            "Enter a different number10\n",
            "24 10 10 24\n"
          ]
        }
      ],
      "source": [
        "#écrire votre code ici\n",
        "A = int(input(\"Enter a number\"))\n",
        "B=int(input(\"Enter a different number\"))\n",
        "print(A,B ,B,A)"
      ]
    },
    {
      "cell_type": "markdown",
      "id": "c91eafd4",
      "metadata": {
        "id": "c91eafd4"
      },
      "source": [
        "# Partie 4 : Débogage, premiers pas\n",
        "Comme avec tout autre langage de programmation, en écrivant du code il est fort probable qu'il contienne des erreurs syntaxiques (faciles à identifier et à résoudre) ou logiques (plus difficiles à trouver). Par conséquence, le compilateur (IDE) va vous afficher ces erreurs que vous devrez résoudre, c'est ce qu'on appelle **Débogage***. Malheureusement, Jupyter Notebook ne fournit pas un débogueur performant comme c'est le cas PyCharm ou Thonny. Néanmoins, les erreurs retournées peuvent tout de même vous aider à identifier et régler le problème.\n",
        "Par exemple le code suivant affichera une erreur liée à une erreur syntaxique dans le nom de la fonction print"
      ]
    },
    {
      "cell_type": "code",
      "execution_count": 63,
      "id": "ec32ee65",
      "metadata": {
        "colab": {
          "base_uri": "https://localhost:8080/"
        },
        "id": "ec32ee65",
        "outputId": "baf82dfb-ade9-4afb-87c5-2e1d8a62dee6"
      },
      "outputs": [
        {
          "output_type": "stream",
          "name": "stdout",
          "text": [
            "Partie 3\n"
          ]
        }
      ],
      "source": [
        "#ne modifiez pas le code ci-dessous\n",
        "#pint(\"Partie 3\")\n",
        "print(\"Partie 3\")"
      ]
    },
    {
      "cell_type": "markdown",
      "id": "18e39990",
      "metadata": {
        "id": "18e39990"
      },
      "source": [
        "Ci-dessous un exemple d'erreur causé par une mauvaise indentation du code car il y a un espace devant le deuxième print"
      ]
    },
    {
      "cell_type": "code",
      "execution_count": null,
      "id": "8d408517",
      "metadata": {
        "id": "8d408517",
        "outputId": "196e1a7d-a8df-4cee-db4e-93f130aef035"
      },
      "outputs": [
        {
          "ename": "IndentationError",
          "evalue": "unexpected indent (810849831.py, line 2)",
          "output_type": "error",
          "traceback": [
            "\u001b[1;36m  Input \u001b[1;32mIn [65]\u001b[1;36m\u001b[0m\n\u001b[1;33m    print(\"Indentation\")\u001b[0m\n\u001b[1;37m    ^\u001b[0m\n\u001b[1;31mIndentationError\u001b[0m\u001b[1;31m:\u001b[0m unexpected indent\n"
          ]
        }
      ],
      "source": [
        "#ne modifiez pas le code ci-dessous\n",
        "print(\"Partie 3\")\n",
        " print(\"Indentation\")"
      ]
    },
    {
      "cell_type": "markdown",
      "id": "8c736eff",
      "metadata": {
        "id": "8c736eff"
      },
      "source": [
        "Le code suivant contient un erreur dans le mot clé import utiliser pour importer un package (librarie)"
      ]
    },
    {
      "cell_type": "code",
      "execution_count": null,
      "id": "1db1363e",
      "metadata": {
        "id": "1db1363e",
        "outputId": "6304c98c-8ed9-41dd-d6a4-a8409fac16d3"
      },
      "outputs": [
        {
          "ename": "SyntaxError",
          "evalue": "invalid syntax (1450529283.py, line 1)",
          "output_type": "error",
          "traceback": [
            "\u001b[1;36m  Input \u001b[1;32mIn [68]\u001b[1;36m\u001b[0m\n\u001b[1;33m    impot time\u001b[0m\n\u001b[1;37m          ^\u001b[0m\n\u001b[1;31mSyntaxError\u001b[0m\u001b[1;31m:\u001b[0m invalid syntax\n"
          ]
        }
      ],
      "source": [
        "impot time"
      ]
    },
    {
      "cell_type": "markdown",
      "id": "7b8bb8d7-8f70-42b0-a081-6d3b1940924d",
      "metadata": {
        "id": "7b8bb8d7-8f70-42b0-a081-6d3b1940924d"
      },
      "source": [
        "<b>Exercice 4.1 :</b> Le code ci-dessous contient plusieurs erreurs. Identifiez et corrigez ces erreurs. Le résultat attendu est :\n",
        "<p style=\"padding: 10px; border: 1px solid black;\">\n",
        "TP 2 : débogage\n",
        "<br>Exercice d'application\n",
        "<br>La valeur de a est 5\n",
        "<br>Donnez la valeur de x  10\n",
        "<br>10\n",
        "</p>\n"
      ]
    },
    {
      "cell_type": "code",
      "execution_count": 80,
      "id": "08c5a3cf-6e14-47f7-a43e-b22f146285e0",
      "metadata": {
        "colab": {
          "base_uri": "https://localhost:8080/"
        },
        "id": "08c5a3cf-6e14-47f7-a43e-b22f146285e0",
        "outputId": "7df08ace-c2ff-429e-831a-6f234ececbe8"
      },
      "outputs": [
        {
          "output_type": "stream",
          "name": "stdout",
          "text": [
            "TP 2 : débogage\n",
            "Exercice d'application\n",
            "La valeur de a est 5\n",
            "Donnez la valeur de x 10\n",
            "10\n"
          ]
        }
      ],
      "source": [
        "#code à corriger\n",
        "print(\"TP 2 : débogage\")\n",
        "print(\"Exercice d'application\")\n",
        "a =5\n",
        "print(\"La valeur de a est {}\".format(a))\n",
        "x =input(\"Donnez la valeur de x \")\n",
        "print(x)"
      ]
    },
    {
      "cell_type": "markdown",
      "id": "231e11ad-edf4-4227-a3d2-a374a074bdc5",
      "metadata": {
        "id": "231e11ad-edf4-4227-a3d2-a374a074bdc5"
      },
      "source": [
        "<b>Mini projet :</b> Créer un programme qui :\n",
        "* Affiche un message de bienvenue à l'utilisateur\n",
        "* Demande à l'utilisateur d'entrer son nom et son prénom (séparément)\n",
        "* Demande à l'utilisateur de donner le nom de la ville dans laquelle il est né\n",
        "* Combiner et afficher le nom, le prénom et le nom de la ville  \n",
        "\n",
        "La valeur entrées par l'utilisateur doivent être affichées en dessous du message. Par exemple :  \n",
        "Entrez votre âge :  \n",
        "24"
      ]
    },
    {
      "cell_type": "code",
      "execution_count": 78,
      "id": "0ef59f91-3989-409c-b8b9-10713f54e4ca",
      "metadata": {
        "colab": {
          "base_uri": "https://localhost:8080/"
        },
        "id": "0ef59f91-3989-409c-b8b9-10713f54e4ca",
        "outputId": "8a3aa3ab-4381-41e1-ea07-d7712b4dac90"
      },
      "outputs": [
        {
          "output_type": "stream",
          "name": "stdout",
          "text": [
            "bienvenue\n",
            "Veuillez entrer votre nom s'il vous plaît :  \n",
            "MANSERI\n",
            "Veuillez entrer votre prénom s'il vous plaît : \n",
            "WISSAL\n",
            "Veuillez entrer le nom de la ville de la naissance : \n",
            "MOSTAGANEM\n",
            "Votre nom est MANSERIEt et votre prénom est WISSAL et vous êtes né à MOSTAGANEM\n"
          ]
        }
      ],
      "source": [
        "#écrire votre code ici\n",
        "print(\"bienvenue\")\n",
        "a = \"Veuillez entrer votre nom s'il vous plaît :  \"\n",
        "print(a)\n",
        "A=str(input(\"\"))\n",
        "b = \"Veuillez entrer votre prénom s'il vous plaît : \"\n",
        "print(b)\n",
        "B=str(input(\"\"))\n",
        "c=\"Veuillez entrer le nom de la ville de la naissance : \"\n",
        "print(c)\n",
        "C= str(input(\"\"))\n",
        "\n",
        "print (\"Votre nom est {}Et et votre prénom est {} et vous êtes né à {}\".format(A,B,C))"
      ]
    },
    {
      "cell_type": "markdown",
      "id": "f01ecd1a-e08c-4a4e-938e-77d35a5bea31",
      "metadata": {
        "id": "f01ecd1a-e08c-4a4e-938e-77d35a5bea31"
      },
      "source": [
        "**<center>Évaluation : Merci d'évaluer ce chapitre en utilisant <a href=\"https://forms.gle/yqMqmoyKNs1o6FqC7\">ce lien</a>. Merci pour votre collaboration !</br></center>**"
      ]
    }
  ],
  "metadata": {
    "kernelspec": {
      "display_name": "Python 3.10.0 64-bit",
      "language": "python",
      "name": "python3"
    },
    "language_info": {
      "codemirror_mode": {
        "name": "ipython",
        "version": 3
      },
      "file_extension": ".py",
      "mimetype": "text/x-python",
      "name": "python",
      "nbconvert_exporter": "python",
      "pygments_lexer": "ipython3",
      "version": "3.10.0 (tags/v3.10.0:b494f59, Oct  4 2021, 19:00:18) [MSC v.1929 64 bit (AMD64)]"
    },
    "vscode": {
      "interpreter": {
        "hash": "0829c92b5d93b6fd6e9c5ececc7d836bcf2ed3666fcd021cf3c66d2f2372dcee"
      }
    },
    "colab": {
      "provenance": []
    }
  },
  "nbformat": 4,
  "nbformat_minor": 5
}